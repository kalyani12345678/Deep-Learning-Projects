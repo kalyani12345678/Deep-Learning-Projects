{
  "nbformat": 4,
  "nbformat_minor": 0,
  "metadata": {
    "colab": {
      "provenance": []
    },
    "kernelspec": {
      "name": "python3",
      "display_name": "Python 3"
    },
    "language_info": {
      "name": "python"
    }
  },
  "cells": [
    {
      "cell_type": "code",
      "source": [
        "# Step 1: Data Preprocessing\n",
        "import re  # regular expression\n",
        "from collections import Counter\n",
        "import numpy as np\n",
        "\n",
        "\n",
        "# Implement the function process_data which\n",
        "# 1) Reads in a corpus\n",
        "# 2) Changes everything to lowercase\n",
        "# 3) Returns a list of words.\n",
        "\n",
        "words = [] #words\n",
        "with open('sample.txt','r',encoding=\"utf8\") as f:\n",
        "    file_name_data = f.read()\n",
        "    file_name_data = file_name_data.lower()\n",
        "    words = re.findall('\\w+', file_name_data)"
      ],
      "metadata": {
        "id": "--BHOFP4PMHv"
      },
      "execution_count": 17,
      "outputs": []
    },
    {
      "cell_type": "code",
      "source": [
        "v = set(words) #vocabulary\n",
        "print(f\"The first 10 words in our dictionary are: \\n{words[0:10]}\")\n",
        "print(f\"The dictionary has {len(v)} words \")# a get_count function that returns a dictionary of word versus frequency\n",
        "def get_count(words):\n",
        "    word_count_dict = {}\n",
        "    for word in words:\n",
        "        if word in word_count_dict:\n",
        "            word_count_dict[word] += 1\n",
        "        else:\n",
        "            word_count_dict[word] = 1\n",
        "    return word_count_dict\n",
        "word_count_dict = get_count(words)\n",
        "print(f\"There are {len(word_count_dict)} key values pairs\")"
      ],
      "metadata": {
        "id": "anMBxdR9Pk-j",
        "colab": {
          "base_uri": "https://localhost:8080/"
        },
        "outputId": "ec7c0a63-3f04-41a3-c039-2398d8d6c057"
      },
      "execution_count": 18,
      "outputs": [
        {
          "output_type": "stream",
          "name": "stdout",
          "text": [
            "The first 10 words in our dictionary are: \n",
            "['a', 'ability', 'able', 'about', 'above', 'accept', 'according', 'account', 'across', 'act']\n",
            "The dictionary has 1002 words \n",
            "There are 1002 key values pairs\n"
          ]
        }
      ]
    },
    {
      "cell_type": "code",
      "source": [
        "# a get_count function that returns a dictionary of word versus frequency\n",
        "def get_count(words):\n",
        "    word_count_dict = {}\n",
        "    for word in words:\n",
        "        if word in word_count_dict:\n",
        "            word_count_dict[word] += 1\n",
        "        else:\n",
        "            word_count_dict[word] = 1\n",
        "    return word_count_dict\n",
        "word_count_dict = get_count(words)\n",
        "print(f\"There are {len(word_count_dict)} key values pairs\")"
      ],
      "metadata": {
        "colab": {
          "base_uri": "https://localhost:8080/"
        },
        "id": "80r8R8_fOuJ2",
        "outputId": "e976be84-e2a9-4943-c60a-5a19c72ae3c4"
      },
      "execution_count": 19,
      "outputs": [
        {
          "output_type": "stream",
          "name": "stdout",
          "text": [
            "There are 1002 key values pairs\n"
          ]
        }
      ]
    },
    {
      "cell_type": "code",
      "source": [
        "# implement get_probs function\n",
        "# to calculate the probability that any word will appear if randomly selected from the dictionary\n",
        "\n",
        "def get_probs(word_count_dict):\n",
        "    probs = {}\n",
        "    m = sum(word_count_dict.values())\n",
        "    for key in word_count_dict.keys():\n",
        "        probs[key] = word_count_dict[key] / m\n",
        "    return probs"
      ],
      "metadata": {
        "id": "EQ85FxM4O15t"
      },
      "execution_count": 20,
      "outputs": []
    },
    {
      "cell_type": "code",
      "source": [
        "# Now we implement 4 edit word functions\n",
        "\n",
        "# DeleteLetter:removes a letter from a given word\n",
        "def DeleteLetter(word):\n",
        "    delete_list = []\n",
        "    split_list = []\n",
        "    for i in range(len(word)):\n",
        "        split_list.append((word[0:i], word[i:]))\n",
        "    for a, b in split_list:\n",
        "        delete_list.append(a + b[1:])\n",
        "    return delete_list\n",
        "\n",
        "delete_word_l = DeleteLetter(word=\"cans\")"
      ],
      "metadata": {
        "id": "z0UbPHd1O3mz"
      },
      "execution_count": 21,
      "outputs": []
    },
    {
      "cell_type": "code",
      "source": [
        "# SwitchLetter:swap two adjacent letters\n",
        "def SwitchLetter(word):\n",
        "    split_l = []\n",
        "    switch_l = []\n",
        "    for i in range(len(word)):\n",
        "        split_l.append((word[0:i], word[i:]))\n",
        "    switch_l = [a + b[1] + b[0] + b[2:] for a, b in split_l if len(b) >= 2]\n",
        "    return switch_l\n",
        "\n",
        "switch_word_l = SwitchLetter(word=\"eta\")"
      ],
      "metadata": {
        "id": "q_KDbS5AO7eC"
      },
      "execution_count": 22,
      "outputs": []
    },
    {
      "cell_type": "code",
      "source": [
        "# replace_letter: changes one letter to another\n",
        "def replace_letter(word):\n",
        "    split_l = []\n",
        "    replace_list = []\n",
        "    for i in range(len(word)):\n",
        "        split_l.append((word[0:i], word[i:]))\n",
        "    alphabets = 'abcdefghijklmnopqrstuvwxyz'\n",
        "    replace_list = [a + l + (b[1:] if len(b) > 1 else '') for a, b in split_l if b for l in alphabets]\n",
        "    return replace_list\n",
        "\n",
        "replace_l = replace_letter(word='can')"
      ],
      "metadata": {
        "id": "5wf7-AAUPFNO"
      },
      "execution_count": 23,
      "outputs": []
    },
    {
      "cell_type": "code",
      "source": [
        "# insert_letter: adds additional characters\n",
        "def insert_letter(word):\n",
        "    split_l = []\n",
        "    insert_list = []\n",
        "    for i in range(len(word) + 1):\n",
        "        split_l.append((word[0:i], word[i:]))\n",
        "    letters = 'abcdefghijklmnopqrstuvwxyz'\n",
        "    insert_list = [a + l + b for a, b in split_l for l in letters]\n",
        "    # print(split_l)\n",
        "    return insert_list"
      ],
      "metadata": {
        "id": "kNDLOiLsPGcu"
      },
      "execution_count": 24,
      "outputs": []
    },
    {
      "cell_type": "code",
      "source": [
        "# combining the edits\n",
        "# switch operation optional\n",
        "def edit_one_letter(word, allow_switches=True):\n",
        "    edit_set1 = set()\n",
        "    edit_set1.update(DeleteLetter(word))\n",
        "    if allow_switches:\n",
        "        edit_set1.update(SwitchLetter(word))\n",
        "    edit_set1.update(replace_letter(word))\n",
        "    edit_set1.update(insert_letter(word))\n",
        "    return edit_set1\n",
        "\n",
        "# edit two letters\n",
        "def edit_two_letters(word, allow_switches=True):\n",
        "    edit_set2 = set()\n",
        "    edit_one = edit_one_letter(word, allow_switches=allow_switches)\n",
        "    for w in edit_one:\n",
        "        if w:\n",
        "            edit_two = edit_one_letter(w, allow_switches=allow_switches)\n",
        "            edit_set2.update(edit_two)\n",
        "    return edit_set2\n",
        "\n",
        "# get corrected word\n",
        "def get_corrections(word, probs, vocab, n=2):\n",
        "    suggested_word = []\n",
        "    best_suggestion = []\n",
        "    suggested_word = list(\n",
        "        (word in vocab and word) or edit_one_letter(word).intersection(vocab) or edit_two_letters(word).intersection(\n",
        "            vocab))\n",
        "    best_suggestion = [[s, probs[s]] for s in list(reversed(suggested_word))]\n",
        "    return best_suggestion\n",
        "\n",
        "my_word = input(\"Enter any word:\")\n",
        "probs = get_probs(word_count_dict)\n",
        "tmp_corrections = get_corrections(my_word, probs, v, 2)\n",
        "for i, word_prob in enumerate(tmp_corrections):\n",
        "    print(f\"word {i}: {word_prob[0]}, probability {word_prob[1]:.6f}\")"
      ],
      "metadata": {
        "colab": {
          "base_uri": "https://localhost:8080/"
        },
        "id": "9nuY91yGPNEX",
        "outputId": "b06cc322-62bd-4ad1-abac-9c635ca144da"
      },
      "execution_count": 27,
      "outputs": [
        {
          "output_type": "stream",
          "name": "stdout",
          "text": [
            "Enter any word:accunt\n",
            "word 0: account, probability 0.000998\n"
          ]
        }
      ]
    },
    {
      "cell_type": "code",
      "source": [
        "def get_corrections(word, probs, vocab, n=2):\n",
        "    suggested_word = []\n",
        "    best_suggestion = []\n",
        "    suggested_word = list(\n",
        "        (word in vocab and word) or edit_one_letter(word).intersection(vocab) or edit_two_letters(word).intersection(vocab))\n",
        "    best_suggestion = [[s, probs.get(s, 0)] for s in suggested_word]\n",
        "\n",
        "    if best_suggestion:\n",
        "        best_suggestion.sort(key=lambda x: x[1], reverse=True)\n",
        "        max_prob_word = best_suggestion[0][0]\n",
        "        word = max_prob_word\n",
        "\n",
        "    return word\n",
        "\n",
        "my_word = input(\"Enter any word: \")\n",
        "probs = get_probs(word_count_dict)\n",
        "v = set(word_count_dict.keys())\n",
        "corrected_word = get_corrections(my_word, probs, v, 2)\n",
        "print(f\"Corrected word: {corrected_word}\")"
      ],
      "metadata": {
        "id": "VBNeZh9aPr67",
        "colab": {
          "base_uri": "https://localhost:8080/"
        },
        "outputId": "112ff515-6aee-4f23-f7dc-1f558a6a3e37"
      },
      "execution_count": 28,
      "outputs": [
        {
          "output_type": "stream",
          "name": "stdout",
          "text": [
            "Enter any word: accunt\n",
            "Corrected word: account\n"
          ]
        }
      ]
    }
  ]
}